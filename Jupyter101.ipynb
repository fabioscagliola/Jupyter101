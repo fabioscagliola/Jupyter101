{
 "cells": [
  {
   "cell_type": "markdown",
   "id": "d075fa3f-402c-45a9-a1b2-8e8f9cd1588b",
   "metadata": {},
   "source": [
    "# Jupyter 101\n",
    "\n",
    "An Introduction to Jupyter Notebooks and JupyterLab\n",
    "\n"
   ]
  },
  {
   "cell_type": "markdown",
   "id": "2c7a0a7f-9fc7-42b9-abec-7beaf1ac21c7",
   "metadata": {},
   "source": [
    "## Overview\n",
    "\n",
    "Jupyter Notebook is a web-based interactive computational environment for creating and sharing notebook documents.\n",
    "The name is a reference to the three core supported programming languages: Julia, Python, and R.\n",
    "\n",
    "This notebook will guide you through the basics of Jupyter Notebooks and JupyterLab.\n",
    "\n"
   ]
  },
  {
   "cell_type": "markdown",
   "id": "de1fda1d-27ed-42e3-9edf-c8c24f9db7d2",
   "metadata": {},
   "source": [
    "## Contents\n",
    "\n",
    "- Introduction\n",
    "  - Jupyter Notebooks vs. JupyterLab\n",
    "  - Use cases\n",
    "  - Kernels\n",
    "    - Data science\n",
    "    - Machine Learning\n",
    "    - Education\n",
    "- Setup\n",
    "  - Local\n",
    "  - Docker\n",
    "  - Binder\n",
    "- Features\n",
    "  - Markdown cells\n",
    "  - Code cells\n",
    "  - Widgets\n",
    "  - Visualizations\n",
    "  - Console and terminal\n",
    "  - Extensions\n",
    "- Best practices\n",
    "  - Organization\n",
    "  - Version control\n",
    "  - Collaboration\n",
    "\n"
   ]
  },
  {
   "cell_type": "markdown",
   "id": "f24cdd9c-1c8a-429c-894a-45298a76404d",
   "metadata": {},
   "source": [
    "## Features\n",
    "\n",
    "Let us delve into some of the key features of Jupyter Notebooks and JupyterLab, exploring how each feature facilitates various tasks in data science, machine learning, education, and more.\n",
    "\n"
   ]
  },
  {
   "cell_type": "markdown",
   "id": "cb811f68-a21b-4727-9cfa-ab42b622596e",
   "metadata": {},
   "source": [
    "### Markdown cells\n",
    "\n",
    "Markdown cells in Jupyter Notebooks allow incorporating formatted text, links, tables, images, and even LaTeX formulas.\n",
    "\n",
    "For example, here is the a picture of the Lagrangian of the Standard Model of particle physics from a [postcard](https://visit.cern/node/612) I bought at CERN.\n",
    "\n",
    "![Lagrangian of the Standard Model of particle physics](Lagrangian.png)\n",
    "\n",
    "And here is the Standard Model formula.\n",
    "\n",
    "$$\n",
    "\\begin{align*}\n",
    "\\mathcal{L}&=-\\frac{1}{4}\\,{{F}_{\\mu \\nu}}{{F}^{\\mu \\nu}}\\\\\n",
    "&+\\text{i}\\bar{\\psi}{\\not D}\\psi+\\text{h}.\\text{c}.\\\\\n",
    "&+{{\\psi}_{i}}{{y}_{ij}}{{\\psi}_{j}}\\phi+\\text{h}.\\text{c}.\\\\\n",
    "&+|{{D}_{\\mu}}\\phi {{|}^{2}}-V\\left(\\phi \\right)\n",
    "\\end{align*}\n",
    "$$\n",
    "\n"
   ]
  },
  {
   "cell_type": "code",
   "execution_count": 1,
   "id": "8ac8dc35-3055-4594-95c2-058428ea35bf",
   "metadata": {},
   "outputs": [
    {
     "name": "stdout",
     "output_type": "stream",
     "text": [
      "34\n"
     ]
    }
   ],
   "source": [
    "def Fibonacci(number):\n",
    "    if number > 1:\n",
    "        return Fibonacci(number - 1) + Fibonacci(number - 2)\n",
    "    return number\n",
    "\n",
    "print(Fibonacci(9))"
   ]
  }
 ],
 "metadata": {
  "kernelspec": {
   "display_name": "Python 3 (ipykernel)",
   "language": "python",
   "name": "python3"
  },
  "language_info": {
   "codemirror_mode": {
    "name": "ipython",
    "version": 3
   },
   "file_extension": ".py",
   "mimetype": "text/x-python",
   "name": "python",
   "nbconvert_exporter": "python",
   "pygments_lexer": "ipython3",
   "version": "3.12.3"
  }
 },
 "nbformat": 4,
 "nbformat_minor": 5
}
