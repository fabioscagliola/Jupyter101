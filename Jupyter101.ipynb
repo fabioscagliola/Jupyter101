{
 "cells": [
  {
   "cell_type": "markdown",
   "id": "d075fa3f-402c-45a9-a1b2-8e8f9cd1588b",
   "metadata": {},
   "source": [
    "# Jupyter 101\n",
    "\n",
    "An Introduction to Jupyter Notebooks and JupyterLab\n",
    "\n"
   ]
  },
  {
   "cell_type": "markdown",
   "id": "2c7a0a7f-9fc7-42b9-abec-7beaf1ac21c7",
   "metadata": {},
   "source": [
    "## Overview\n",
    "\n",
    "Jupyter Notebook is a web-based interactive computational environment for creating and sharing notebook documents.\n",
    "The name is a reference to the three core supported programming languages: Julia, Python, and R.\n",
    "\n",
    "This notebook will guide you through the basics of Jupyter Notebooks and JupyterLab.\n",
    "\n"
   ]
  },
  {
   "cell_type": "markdown",
   "id": "de1fda1d-27ed-42e3-9edf-c8c24f9db7d2",
   "metadata": {},
   "source": [
    "## Contents\n",
    "\n",
    "- Introduction\n",
    "  - Jupyter Notebooks vs. JupyterLab\n",
    "  - Kernels\n",
    "- Setup\n",
    "  - Local\n",
    "  - Docker\n",
    "  - Binder\n",
    "- Features\n",
    "  - Markdown cells\n",
    "  - Code cells\n",
    "  - Widgets\n",
    "  - Visualizations\n",
    "  - Console and terminal\n",
    "  - Extensions\n",
    "- Best practices\n",
    "  - Organization\n",
    "  - Version control\n",
    "  - Collaboration\n",
    "\n"
   ]
  },
  {
   "cell_type": "markdown",
   "id": "5a07fbd9-fe60-4017-a37c-d5bf1bbb21c5",
   "metadata": {},
   "source": [
    "## Introduction\n",
    "\n",
    "...\n",
    "\n"
   ]
  },
  {
   "cell_type": "markdown",
   "id": "69309728-c7e0-4975-8753-323b35d8dfaa",
   "metadata": {},
   "source": [
    "## Setup\n",
    "\n",
    "If you have already read the README.md file, you may skip this cell.\n",
    "\n",
    "### Local setup\n",
    "\n",
    "Install Jupyter Notebook as explained [here](https://jupyter.org/install).\n",
    "\n",
    "Clone this repo,\n",
    "\n",
    "```bash\n",
    "git clone https://github.com/fabioscagliola/Jupyter101.git\n",
    "```\n",
    "\n",
    "then open the `Jupyter101.ipynb` notebook,\n",
    "\n",
    "```bash\n",
    "jupyter notebook Jupyter101/Jupyter101.ipynb\n",
    "```\n",
    "\n",
    "and let us take it from there.\n",
    "\n",
    "### Docker setup\n",
    "\n",
    "This repo contains everything you need to run JupyterLab in a Docker container.\n",
    "\n",
    "Spin up the container,\n",
    "\n",
    "```bash\n",
    "docker compose up\n",
    "```\n",
    "\n",
    "and then navigate to [http://localhost:8888](http://localhost:8888).\n",
    "\n",
    "### Binder\n",
    "\n",
    "You may as well host this repo in the cloud using Binder.\n",
    "\n",
    "[![Binder](https://mybinder.org/badge_logo.svg)](https://mybinder.org/v2/gh/fabioscagliola/Jupyter101.git/HEAD)\n",
    "\n"
   ]
  },
  {
   "cell_type": "markdown",
   "id": "f24cdd9c-1c8a-429c-894a-45298a76404d",
   "metadata": {},
   "source": [
    "## Features\n",
    "\n",
    "Let us delve into some of the key features of Jupyter Notebooks and JupyterLab, exploring how each feature facilitates various tasks in data science, machine learning, education, and more.\n",
    "\n"
   ]
  },
  {
   "cell_type": "markdown",
   "id": "cb811f68-a21b-4727-9cfa-ab42b622596e",
   "metadata": {},
   "source": [
    "### Markdown cells\n",
    "\n",
    "Markdown cells in Jupyter Notebooks allow incorporating formatted text, links, tables, images, and even LaTeX formulas.\n",
    "\n",
    "For example, here is the a picture of the Lagrangian of the Standard Model of particle physics from a [postcard](https://visit.cern/node/612) I bought at CERN.\n",
    "\n",
    "![Lagrangian of the Standard Model of particle physics](Lagrangian.png)\n",
    "\n",
    "And here is the Standard Model formula.\n",
    "\n",
    "$$\n",
    "\\begin{align*}\n",
    "\\mathcal{L}&=-\\frac{1}{4}\\,{{F}_{\\mu \\nu}}{{F}^{\\mu \\nu}}\\\\\n",
    "&+\\text{i}\\bar{\\psi}{\\not D}\\psi+\\text{h}.\\text{c}.\\\\\n",
    "&+{{\\psi}_{i}}{{y}_{ij}}{{\\psi}_{j}}\\phi+\\text{h}.\\text{c}.\\\\\n",
    "&+|{{D}_{\\mu}}\\phi {{|}^{2}}-V\\left(\\phi \\right)\n",
    "\\end{align*}\n",
    "$$\n",
    "\n"
   ]
  },
  {
   "cell_type": "markdown",
   "id": "38b14c81-a920-4c74-aa88-fa60ac916c6d",
   "metadata": {},
   "source": [
    "## Code cells\n",
    "\n",
    "Code cells are where we write and execute code.\n",
    "\n",
    "The following cell contains some Python code that prints the ninth number in the Fibonacci sequence using a recursive function, not efficient for large numbers.\n",
    "\n"
   ]
  },
  {
   "cell_type": "code",
   "execution_count": 1,
   "id": "8ac8dc35-3055-4594-95c2-058428ea35bf",
   "metadata": {},
   "outputs": [
    {
     "name": "stdout",
     "output_type": "stream",
     "text": [
      "34\n"
     ]
    }
   ],
   "source": [
    "def fibonacci(number):\n",
    "    if number > 1:\n",
    "        return fibonacci(number - 1) + fibonacci(number - 2)\n",
    "    return number\n",
    "\n",
    "print(fibonacci(9))"
   ]
  },
  {
   "cell_type": "markdown",
   "id": "2b636ad1-580b-4347-9f8b-463639af662a",
   "metadata": {},
   "source": [
    "## Widgets\n",
    "\n",
    "Widgets allow creating interactive elements in our notebook.\n",
    "\n",
    "Let us use a slider widget to adjust a parameter and see its effect on a plot.\n",
    "\n"
   ]
  },
  {
   "cell_type": "code",
   "execution_count": 2,
   "id": "95e87a2c-8234-4b75-bb3b-ff02ed6e235e",
   "metadata": {},
   "outputs": [
    {
     "data": {
      "application/vnd.jupyter.widget-view+json": {
       "model_id": "eaa5bd11146b439a86c3c334ff534a79",
       "version_major": 2,
       "version_minor": 0
      },
      "text/plain": [
       "interactive(children=(FloatSlider(value=1.0, description='f', max=10.0, min=1.0), Output()), _dom_classes=('wi…"
      ]
     },
     "metadata": {},
     "output_type": "display_data"
    }
   ],
   "source": [
    "import ipywidgets\n",
    "import matplotlib\n",
    "import numpy\n",
    "\n",
    "def sinusoid(f):\n",
    "    x = numpy.linspace(0, 2 * numpy.pi, 512)\n",
    "    y = numpy.sin(f * x)\n",
    "    matplotlib.pyplot.figure(figsize=(16, 9))\n",
    "    matplotlib.pyplot.plot(x, y)\n",
    "    matplotlib.pyplot.title('f = {:.2f}'.format(f))\n",
    "    matplotlib.pyplot.xlabel('x')\n",
    "    matplotlib.pyplot.ylabel('y = sin(f * x)')\n",
    "    matplotlib.pyplot.show()\n",
    "\n",
    "slider = ipywidgets.FloatSlider(min=1, max=10, step=0.1, value=1, description='f')\n",
    "\n",
    "ipywidgets.interact(sinusoid, f=slider);"
   ]
  }
 ],
 "metadata": {
  "kernelspec": {
   "display_name": "Python 3 (ipykernel)",
   "language": "python",
   "name": "python3"
  },
  "language_info": {
   "codemirror_mode": {
    "name": "ipython",
    "version": 3
   },
   "file_extension": ".py",
   "mimetype": "text/x-python",
   "name": "python",
   "nbconvert_exporter": "python",
   "pygments_lexer": "ipython3",
   "version": "3.12.3"
  }
 },
 "nbformat": 4,
 "nbformat_minor": 5
}
