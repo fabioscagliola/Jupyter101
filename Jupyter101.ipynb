{
 "cells": [
  {
   "cell_type": "markdown",
   "id": "d075fa3f-402c-45a9-a1b2-8e8f9cd1588b",
   "metadata": {},
   "source": [
    "# Jupyter 101\n",
    "\n",
    "An Introduction to Jupyter Notebooks and JupyterLab\n",
    "\n"
   ]
  },
  {
   "cell_type": "markdown",
   "id": "2c7a0a7f-9fc7-42b9-abec-7beaf1ac21c7",
   "metadata": {},
   "source": [
    "## Overview\n",
    "\n",
    "Jupyter Notebook is a web-based interactive computational environment for creating and sharing notebook documents.\n",
    "The name is a reference to the three core supported programming languages: Julia, Python, and R.\n",
    "\n",
    "This notebook will guide you through the basics of Jupyter Notebooks and JupyterLab.\n",
    "\n"
   ]
  },
  {
   "cell_type": "code",
   "execution_count": 1,
   "id": "8ac8dc35-3055-4594-95c2-058428ea35bf",
   "metadata": {},
   "outputs": [
    {
     "name": "stdout",
     "output_type": "stream",
     "text": [
      "34\n"
     ]
    }
   ],
   "source": [
    "def Fibonacci(number):\n",
    "    if number > 1:\n",
    "        return Fibonacci(number - 1) + Fibonacci(number - 2)\n",
    "    return number\n",
    "\n",
    "print(Fibonacci(9))"
   ]
  }
 ],
 "metadata": {
  "kernelspec": {
   "display_name": "Python 3 (ipykernel)",
   "language": "python",
   "name": "python3"
  },
  "language_info": {
   "codemirror_mode": {
    "name": "ipython",
    "version": 3
   },
   "file_extension": ".py",
   "mimetype": "text/x-python",
   "name": "python",
   "nbconvert_exporter": "python",
   "pygments_lexer": "ipython3",
   "version": "3.12.3"
  }
 },
 "nbformat": 4,
 "nbformat_minor": 5
}
