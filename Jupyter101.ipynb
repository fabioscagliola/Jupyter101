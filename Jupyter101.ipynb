{
 "cells": [
  {
   "cell_type": "markdown",
   "id": "d075fa3f-402c-45a9-a1b2-8e8f9cd1588b",
   "metadata": {},
   "source": [
    "# Jupyter 101\n",
    "\n",
    "An Introduction to Jupyter Notebooks and JupyterLab\n",
    "\n"
   ]
  },
  {
   "cell_type": "markdown",
   "id": "2c7a0a7f-9fc7-42b9-abec-7beaf1ac21c7",
   "metadata": {},
   "source": [
    "## Overview\n",
    "\n",
    "Jupyter Notebook is a web-based interactive computational environment for creating and sharing notebook documents.\n",
    "\n",
    "The name is a reference to the three core supported programming languages: Julia, Python, and R.\n",
    "\n",
    "This notebook will guide you through the basics of Jupyter Notebooks and JupyterLab.\n",
    "\n"
   ]
  },
  {
   "cell_type": "markdown",
   "id": "de1fda1d-27ed-42e3-9edf-c8c24f9db7d2",
   "metadata": {},
   "source": [
    "## Contents\n",
    "\n",
    "- Introduction\n",
    "  - Jupyter Notebooks vs. JupyterLab\n",
    "  - Use cases\n",
    "- Setup\n",
    "  - Local\n",
    "  - Docker\n",
    "  - Binder\n",
    "- Features\n",
    "  - Markdown cells\n",
    "  - Code cells\n",
    "  - Widgets\n",
    "  - Visualizations\n",
    "  - Console and terminal\n",
    "  - Extensions\n",
    "- Best practices\n",
    "  - Organization\n",
    "  - Version control\n",
    "  - Collaboration\n",
    "\n"
   ]
  },
  {
   "cell_type": "markdown",
   "id": "5a07fbd9-fe60-4017-a37c-d5bf1bbb21c5",
   "metadata": {},
   "source": [
    "## Introduction\n",
    "\n",
    "Jupyter is an open-source project originating from [IPython](https://ipython.org) and evolved to support interactive computing across multiple programming languages.\n",
    "\n",
    "### Jupyter Notebooks vs. JupyterLab\n",
    "\n",
    "Jupyter Notebooks are web-based documents that allow combining documentation, live code, various visualizations, and more. They are an excellent tool for exploratory data analysis, prototyping, training, and sharing.\n",
    "\n",
    "JupyterLab extends the capabilities of Jupyter Notebooks into a flexible and extensible development environment that supports multiple tabs, interactive widgets, and integration with various tools and extensions.\n",
    "\n",
    "### Use Cases\n",
    "\n",
    "Jupyter has a wide range of applications across different fields.\n",
    "\n",
    "It is widely used in **data science** for data cleaning, transformation, and visualization. The ability to combine code and visual output in a single document enhances the exploratory nature of data science, allowing data scientists to document their workflows.\n",
    "\n",
    "In **machine learning** Jupyter is used for building, training, and evaluating models, providing an interactive platform for experimenting with different algorithms and parameters.\n",
    "\n",
    "Jupyter has become a popular tool in **education**, particularly for teaching programming and scientific computing: its interactive nature allows students to run code and see results immediately, and it enables educators to create and distribute notebooks including both instructional content and exercises.\n",
    "\n"
   ]
  },
  {
   "cell_type": "markdown",
   "id": "69309728-c7e0-4975-8753-323b35d8dfaa",
   "metadata": {},
   "source": [
    "## Setup\n",
    "\n",
    "If you have already read the README.md file, you may skip this cell.\n",
    "\n",
    "### Local\n",
    "\n",
    "Install Jupyter Notebook as explained [here](https://jupyter.org/install).\n",
    "\n",
    "Clone this repo,\n",
    "\n",
    "```bash\n",
    "git clone https://github.com/fabioscagliola/Jupyter101.git\n",
    "```\n",
    "\n",
    "then open the `Jupyter101.ipynb` notebook,\n",
    "\n",
    "```bash\n",
    "jupyter notebook Jupyter101/Jupyter101.ipynb\n",
    "```\n",
    "\n",
    "and let us take it from there.\n",
    "\n",
    "### Docker\n",
    "\n",
    "This repo contains everything you need to run JupyterLab in a Docker container.\n",
    "\n",
    "Spin up the container,\n",
    "\n",
    "```bash\n",
    "docker compose up\n",
    "```\n",
    "\n",
    "and then navigate to [http://localhost:8888](http://localhost:8888).\n",
    "\n",
    "### Binder\n",
    "\n",
    "You may as well host this repo in the cloud using Binder.\n",
    "\n",
    "[![Binder](https://mybinder.org/badge_logo.svg)](https://mybinder.org/v2/gh/fabioscagliola/Jupyter101.git/HEAD)\n",
    "\n"
   ]
  },
  {
   "cell_type": "markdown",
   "id": "f24cdd9c-1c8a-429c-894a-45298a76404d",
   "metadata": {},
   "source": [
    "## Features\n",
    "\n",
    "Let us delve into some of the key features of Jupyter Notebooks and JupyterLab, exploring how each feature facilitates various tasks in data science, machine learning, education, and more.\n",
    "\n"
   ]
  },
  {
   "cell_type": "markdown",
   "id": "cb811f68-a21b-4727-9cfa-ab42b622596e",
   "metadata": {},
   "source": [
    "### Markdown cells\n",
    "\n",
    "Markdown cells in Jupyter Notebooks allow incorporating formatted text, links, tables, images, and even LaTeX formulas.\n",
    "\n",
    "For example, here is the a picture of the Lagrangian of the Standard Model of particle physics from a [postcard](https://visit.cern/node/612) I bought at CERN.\n",
    "\n",
    "![Lagrangian of the Standard Model of particle physics](Lagrangian.png)\n",
    "\n",
    "And here is the Standard Model formula.\n",
    "\n",
    "$$\n",
    "\\begin{align*}\n",
    "\\mathcal{L}&=-\\frac{1}{4}\\,{{F}_{\\mu \\nu}}{{F}^{\\mu \\nu}}\\\\\n",
    "&+\\text{i}\\bar{\\psi}{\\not D}\\psi+\\text{h}.\\text{c}.\\\\\n",
    "&+{{\\psi}_{i}}{{y}_{ij}}{{\\psi}_{j}}\\phi+\\text{h}.\\text{c}.\\\\\n",
    "&+|{{D}_{\\mu}}\\phi {{|}^{2}}-V\\left(\\phi \\right)\n",
    "\\end{align*}\n",
    "$$\n",
    "\n"
   ]
  },
  {
   "cell_type": "markdown",
   "id": "38b14c81-a920-4c74-aa88-fa60ac916c6d",
   "metadata": {},
   "source": [
    "## Code cells\n",
    "\n",
    "Code cells are where we write and execute code.\n",
    "\n",
    "The following cell contains some Python code that prints the ninth number in the Fibonacci sequence using a recursive function, not efficient for large numbers.\n",
    "\n"
   ]
  },
  {
   "cell_type": "code",
   "execution_count": 1,
   "id": "8ac8dc35-3055-4594-95c2-058428ea35bf",
   "metadata": {},
   "outputs": [
    {
     "name": "stdout",
     "output_type": "stream",
     "text": [
      "34\n"
     ]
    }
   ],
   "source": [
    "def fibonacci(number):\n",
    "    if number > 1:\n",
    "        return fibonacci(number - 1) + fibonacci(number - 2)\n",
    "    return number\n",
    "\n",
    "print(fibonacci(9))"
   ]
  },
  {
   "cell_type": "markdown",
   "id": "2b636ad1-580b-4347-9f8b-463639af662a",
   "metadata": {},
   "source": [
    "## Widgets\n",
    "\n",
    "Widgets allow creating interactive elements in our notebook.\n",
    "\n",
    "Let us use a slider widget to adjust a parameter and see its effect on a plot.\n",
    "\n"
   ]
  },
  {
   "cell_type": "code",
   "execution_count": 2,
   "id": "95e87a2c-8234-4b75-bb3b-ff02ed6e235e",
   "metadata": {},
   "outputs": [
    {
     "data": {
      "application/vnd.jupyter.widget-view+json": {
       "model_id": "eaa5bd11146b439a86c3c334ff534a79",
       "version_major": 2,
       "version_minor": 0
      },
      "text/plain": [
       "interactive(children=(FloatSlider(value=1.0, description='f', max=10.0, min=1.0), Output()), _dom_classes=('wi…"
      ]
     },
     "metadata": {},
     "output_type": "display_data"
    }
   ],
   "source": [
    "import ipywidgets\n",
    "import matplotlib\n",
    "import numpy\n",
    "\n",
    "def sinusoid(f):\n",
    "    x = numpy.linspace(0, 2 * numpy.pi, 512)\n",
    "    y = numpy.sin(f * x)\n",
    "    matplotlib.pyplot.figure(figsize=(16, 9))\n",
    "    matplotlib.pyplot.plot(x, y)\n",
    "    matplotlib.pyplot.title('f = {:.2f}'.format(f))\n",
    "    matplotlib.pyplot.xlabel('x')\n",
    "    matplotlib.pyplot.ylabel('y = sin(f * x)')\n",
    "    matplotlib.pyplot.show()\n",
    "\n",
    "slider = ipywidgets.FloatSlider(min=1, max=10, step=0.1, value=1, description='f')\n",
    "\n",
    "ipywidgets.interact(sinusoid, f=slider);"
   ]
  },
  {
   "cell_type": "markdown",
   "id": "58fd3938-9006-492a-81f1-81c239a195a6",
   "metadata": {},
   "source": [
    "## Visualizations\n",
    "\n",
    "Jupyter Notebooks support a variety of visualization libraries.\n",
    "\n",
    "The sinusoid above is rendered using the popular [matplotlib](https://matplotlib.org) library.\n",
    "\n",
    "Let us now try the [ipyvolume](https://github.com/widgetti/ipyvolume) library, which is specifically designed for interactive 3D visualizations, to render the solution of the Lorenz attractor for σ = 10, ρ = 28, and β = 8/3.\n",
    "\n"
   ]
  },
  {
   "cell_type": "code",
   "execution_count": 3,
   "id": "62800ef1-70e6-43f2-8625-a00b0784f1f4",
   "metadata": {},
   "outputs": [
    {
     "data": {
      "application/vnd.jupyter.widget-view+json": {
       "model_id": "56b363dd81044e0f80cf6836fe784f83",
       "version_major": 2,
       "version_minor": 0
      },
      "text/plain": [
       "Container(figure=Figure(box_center=[0.5, 0.5, 0.5], box_size=[1.0, 1.0, 1.0], camera=PerspectiveCamera(fov=45.…"
      ]
     },
     "metadata": {},
     "output_type": "display_data"
    }
   ],
   "source": [
    "import ipyvolume\n",
    "import numpy\n",
    "\n",
    "def lorenz(x, y, z, s=10, r=28, b=8/3):\n",
    "    dx = s * (y - x)\n",
    "    dy = x * (r - z) - y\n",
    "    dz = x * y - b * z\n",
    "    return dx, dy, dz\n",
    "\n",
    "dt = 0.01\n",
    "iterations = 10000\n",
    "\n",
    "data = numpy.empty((iterations, 3))\n",
    "\n",
    "x, y, z = 1, 1, 1\n",
    "\n",
    "for i in range(iterations):\n",
    "    dx, dy, dz = lorenz(x, y, z)\n",
    "    x += dx * dt\n",
    "    y += dy * dt\n",
    "    z += dz * dt\n",
    "    data[i] = x, y, z\n",
    "\n",
    "ipyvolume.pylab.figure(width=1280, height=720, controls=False)\n",
    "ipyvolume.pylab.plot(*data.T)\n",
    "ipyvolume.pylab.show()\n",
    "\n",
    "# TODO: Hide the controls"
   ]
  },
  {
   "cell_type": "markdown",
   "id": "7c6ec0d6-9b5c-4f87-a614-11e615addff4",
   "metadata": {},
   "source": [
    "## Console and terminal\n",
    "\n",
    "Besides the rich interface for working with notebooks, JupyterLab also includes support for a console and a terminal.\n",
    "\n",
    "### Console\n",
    "\n",
    "The console allows you to execute code interactively, similar to a Jupyter Notebook but without the need for cells.\n",
    "\n",
    "### Terminal\n",
    "\n",
    "The terminal provides full access to the system shell, allowing you to run any command you would normally run in a standalone terminal application.\n",
    "\n"
   ]
  },
  {
   "cell_type": "markdown",
   "id": "5efce0e2-db90-4119-8494-aa6acc8af5c6",
   "metadata": {
    "editable": true,
    "slideshow": {
     "slide_type": ""
    },
    "tags": []
   },
   "source": [
    "## Extensions\n",
    "\n",
    "Extensions in JupyterLab extend the capabilities of the core application.\n",
    "\n",
    "Several extensions exist: integration tools, productivity tools, UI enhancements, theming, and more.\n",
    "\n",
    "For example, [jupyterlab-git](https://github.com/jupyterlab/jupyterlab-git) is a Git extension for JupyterLab.\n",
    "\n",
    "Ensure the extension manager is enabled by checking **Settings > Enable Extensions Manager**.\n",
    "\n",
    "And then browse and manage extensions using the **Extensions Manager** or the terminal.\n",
    "\n",
    "Use the following command to list the installed extensions.\n",
    "\n",
    "```bash\n",
    "jupyter server extension list\n",
    "```\n",
    "\n"
   ]
  }
 ],
 "metadata": {
  "kernelspec": {
   "display_name": "Python 3 (ipykernel)",
   "language": "python",
   "name": "python3"
  },
  "language_info": {
   "codemirror_mode": {
    "name": "ipython",
    "version": 3
   },
   "file_extension": ".py",
   "mimetype": "text/x-python",
   "name": "python",
   "nbconvert_exporter": "python",
   "pygments_lexer": "ipython3",
   "version": "3.12.3"
  }
 },
 "nbformat": 4,
 "nbformat_minor": 5
}
